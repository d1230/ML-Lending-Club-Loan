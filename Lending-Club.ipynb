{
 "cells": [
  {
   "cell_type": "code",
   "execution_count": 2,
   "metadata": {},
   "outputs": [],
   "source": [
    "import pandas as pd"
   ]
  },
  {
   "cell_type": "code",
   "execution_count": 3,
   "metadata": {},
   "outputs": [
    {
     "name": "stderr",
     "output_type": "stream",
     "text": [
      "D:\\Users\\KDH\\Anaconda3\\lib\\site-packages\\IPython\\core\\interactiveshell.py:2728: DtypeWarning: Columns (0,47) have mixed types. Specify dtype option on import or set low_memory=False.\n",
      "  interactivity=interactivity, compiler=compiler, result=result)\n"
     ]
    }
   ],
   "source": [
    "# read csv filt in to a dataframe which is lending club data between 2007 and 2011\n",
    "loans_2011 = pd.read_csv('LoanStats3e.csv', encoding = \"ISO-8859-1\")"
   ]
  },
  {
   "cell_type": "code",
   "execution_count": 4,
   "metadata": {},
   "outputs": [
    {
     "data": {
      "text/html": [
       "<div>\n",
       "<style scoped>\n",
       "    .dataframe tbody tr th:only-of-type {\n",
       "        vertical-align: middle;\n",
       "    }\n",
       "\n",
       "    .dataframe tbody tr th {\n",
       "        vertical-align: top;\n",
       "    }\n",
       "\n",
       "    .dataframe thead th {\n",
       "        text-align: right;\n",
       "    }\n",
       "</style>\n",
       "<table border=\"1\" class=\"dataframe\">\n",
       "  <thead>\n",
       "    <tr style=\"text-align: right;\">\n",
       "      <th></th>\n",
       "      <th>id</th>\n",
       "      <th>member_id</th>\n",
       "      <th>loan_amnt</th>\n",
       "      <th>funded_amnt</th>\n",
       "      <th>funded_amnt_inv</th>\n",
       "      <th>term</th>\n",
       "      <th>int_rate</th>\n",
       "      <th>installment</th>\n",
       "      <th>grade</th>\n",
       "      <th>sub_grade</th>\n",
       "      <th>...</th>\n",
       "      <th>recoveries</th>\n",
       "      <th>collection_recovery_fee</th>\n",
       "      <th>last_pymnt_d</th>\n",
       "      <th>last_pymnt_amnt</th>\n",
       "      <th>next_pymnt_d</th>\n",
       "      <th>last_credit_pull_d</th>\n",
       "      <th>collections_12_mths_ex_med</th>\n",
       "      <th>mths_since_last_major_derog</th>\n",
       "      <th>policy_code</th>\n",
       "      <th>application_type</th>\n",
       "    </tr>\n",
       "  </thead>\n",
       "  <tbody>\n",
       "    <tr>\n",
       "      <th>0</th>\n",
       "      <td>NaN</td>\n",
       "      <td>NaN</td>\n",
       "      <td>5000.0</td>\n",
       "      <td>5000.0</td>\n",
       "      <td>4975.0</td>\n",
       "      <td>36 months</td>\n",
       "      <td>0.1065</td>\n",
       "      <td>162.87</td>\n",
       "      <td>B</td>\n",
       "      <td>B2</td>\n",
       "      <td>...</td>\n",
       "      <td>0.0</td>\n",
       "      <td>0.0</td>\n",
       "      <td>Jan-2015</td>\n",
       "      <td>171.62</td>\n",
       "      <td>NaN</td>\n",
       "      <td>Aug-2018</td>\n",
       "      <td>0.0</td>\n",
       "      <td>NaN</td>\n",
       "      <td>1.0</td>\n",
       "      <td>Individual</td>\n",
       "    </tr>\n",
       "  </tbody>\n",
       "</table>\n",
       "<p>1 rows × 53 columns</p>\n",
       "</div>"
      ],
      "text/plain": [
       "    id  member_id  loan_amnt  funded_amnt  funded_amnt_inv        term  \\\n",
       "0  NaN        NaN     5000.0       5000.0           4975.0   36 months   \n",
       "\n",
       "   int_rate  installment grade sub_grade       ...        recoveries  \\\n",
       "0    0.1065       162.87     B        B2       ...               0.0   \n",
       "\n",
       "  collection_recovery_fee last_pymnt_d  last_pymnt_amnt next_pymnt_d  \\\n",
       "0                     0.0     Jan-2015           171.62          NaN   \n",
       "\n",
       "  last_credit_pull_d collections_12_mths_ex_med mths_since_last_major_derog  \\\n",
       "0           Aug-2018                        0.0                         NaN   \n",
       "\n",
       "   policy_code application_type  \n",
       "0          1.0       Individual  \n",
       "\n",
       "[1 rows x 53 columns]"
      ]
     },
     "execution_count": 4,
     "metadata": {},
     "output_type": "execute_result"
    }
   ],
   "source": [
    "# display first row of the dataframe\n",
    "loans_2011.head(1)"
   ]
  },
  {
   "cell_type": "code",
   "execution_count": 5,
   "metadata": {},
   "outputs": [
    {
     "data": {
      "text/plain": [
       "(42538, 53)"
      ]
     },
     "execution_count": 5,
     "metadata": {},
     "output_type": "execute_result"
    }
   ],
   "source": [
    "# display the shape of the dataframe\n",
    "loans_2011.shape"
   ]
  },
  {
   "cell_type": "markdown",
   "metadata": {},
   "source": [
    "** it has 53 columns and 42538 rows **"
   ]
  },
  {
   "cell_type": "markdown",
   "metadata": {},
   "source": [
    "** display the columns of the dataframe ** \n",
    "- reference: LCDataDictionary.xlsx "
   ]
  },
  {
   "cell_type": "code",
   "execution_count": 6,
   "metadata": {},
   "outputs": [
    {
     "data": {
      "text/plain": [
       "Index(['id', 'member_id', 'loan_amnt', 'funded_amnt', 'funded_amnt_inv',\n",
       "       'term', 'int_rate', 'installment', 'grade', 'sub_grade', 'emp_title',\n",
       "       'emp_length', 'home_ownership', 'annual_inc', 'verification_status',\n",
       "       'issue_d', 'loan_status', 'pymnt_plan', 'url', 'desc', 'purpose',\n",
       "       'title', 'zip_code', 'addr_state', 'dti', 'delinq_2yrs',\n",
       "       'earliest_cr_line', 'inq_last_6mths', 'mths_since_last_delinq',\n",
       "       'mths_since_last_record', 'open_acc', 'pub_rec', 'revol_bal',\n",
       "       'revol_util', 'total_acc', 'initial_list_status', 'out_prncp',\n",
       "       'out_prncp_inv', 'total_pymnt', 'total_pymnt_inv', 'total_rec_prncp',\n",
       "       'total_rec_int', 'total_rec_late_fee', 'recoveries',\n",
       "       'collection_recovery_fee', 'last_pymnt_d', 'last_pymnt_amnt',\n",
       "       'next_pymnt_d', 'last_credit_pull_d', 'collections_12_mths_ex_med',\n",
       "       'mths_since_last_major_derog', 'policy_code', 'application_type'],\n",
       "      dtype='object')"
      ]
     },
     "execution_count": 6,
     "metadata": {},
     "output_type": "execute_result"
    }
   ],
   "source": [
    "loans_2011.columns"
   ]
  },
  {
   "cell_type": "markdown",
   "metadata": {},
   "source": [
    "- id\tobject\t\tA unique LC assigned ID for the loan listing.\n",
    "- member_id\tfloat64\t\tA unique LC assigned Id for the borrower member.\n",
    "- loan_amnt\tfloat64\t\tThe listed amount of the loan applied for by the borrower.\n",
    "- funded_amnt\tfloat64\t\tThe total amount committed to that loan at that point in time.\n",
    "- funded_amnt_inv\tfloat64\t\tThe total amount committed by investors for that loan at that point in time.\n",
    "- term\tobject\t\tThe number of payments on the loan. Values are in months and can be either 36 or 60.\n",
    "- int_rate\tobject\t\tInterest Rate on the loan\n",
    "- installment\tfloat64\t\tThe monthly payment owed by the borrower if the loan originates.\n",
    "- grade\tobject\t\tLC assigned loan grade\n",
    "- sub_grade\tobject\t\tLC assigned loan subgrade\n",
    "- emp_title\tobject\t\tThe job title supplied by the Borrower when applying for the loan.\n",
    "- emp_length\tobject\t\tEmployment length in years. Possible values are between 0 and 10 where 0 means less than one year and 10 means ten or more years.\n",
    "- home_ownership\tobject\t\tThe home ownership status provided by the borrower during registration. Our values are: RENT, OWN, MORTGAGE, OTHER.\n",
    "- annual_inc\tfloat64\t\tThe self-reported annual income provided by the borrower during registration.\n",
    "- verification_status\tobject\tVerified\tIndicates if income was verified by LC, not verified, or if the income source was verified\n",
    "- issue_d\tobject\t\tThe month which the loan was funded\n",
    "- loan_status\tobject\t\tCurrent status of the loan\n",
    "- pymnt_plan\tobject\t\tIndicates if a payment plan has been put in place for the loan\n",
    "- purpose\tobject\t\tA category provided by the borrower for the loan request.\n",
    "- url:URL for the LC page with listing data.\n",
    "- desc:Loan description provided by the borrower\n",
    "- mths_since_last_delinq : The number of months since the borrower's last delinquency.\n",
    "- mths_since_last_record : The number of months since the last public record.\n",
    "- mths_since_last_major_dero g: Months since most recent 90-day or worse rating at time of application for the secondary applicant\n",
    "- next_pymnt_d :Next scheduled payment date"
   ]
  },
  {
   "cell_type": "markdown",
   "metadata": {},
   "source": [
    "+ After analyzing each column, we can conclude that the following features need to be removed:\n",
    "\n",
    "\n",
    "- id: randomly generated field by Lending Club for unique identification purposes only\n",
    "- member_id: also a randomly generated field by Lending Club for unique identification purposes only\n",
    "- funded_amnt: leaks data from the future (after the loan is already started to be funded)\n",
    "- funded_amnt_inv: also leaks data from the future (after the loan is already started to be funded)\n",
    "- grade: contains redundant information as the interest rate column (int_rate)\n",
    "- sub_grade: also contains redundant information as the interest rate column (int_rate)\n",
    "- emp_title: requires other data and a lot of processing to potentially be useful\n",
    "- issue_d: leaks data from the future (after the loan is already completed funded)\n",
    "- url: empty\n",
    "- desc: desc is not much imformative for machine learning\n",
    "- next_pymnt_d: payment date is not much relevant"
   ]
  },
  {
   "cell_type": "code",
   "execution_count": 7,
   "metadata": {},
   "outputs": [],
   "source": [
    "loans_2011 = loans_2011.drop([\"id\", \"member_id\", \"funded_amnt\", \"funded_amnt_inv\", \"grade\", \"sub_grade\", \"emp_title\", \"issue_d\",\"url\",\"desc\",\"next_pymnt_d\",\"mths_since_last_major_derog\"], axis=1)"
   ]
  },
  {
   "cell_type": "markdown",
   "metadata": {},
   "source": [
    "- name\tdtype\tfirst value\tdescription\n",
    "- title\tobject\tComputer\tThe loan title provided by the borrower\n",
    "- zip_code\tobject\t860xx\tThe first 3 numbers of the zip code provided by the borrower in the loan application.\n",
    "- addr_state\tobject\tAZ\tThe state provided by the borrower in the loan application\n",
    "- dti\tfloat64\t27.65\tA ratio calculated using the borrower’s total monthly debt payments on the total debt obligations, excluding mortgage and the requested LC loan, divided by the borrower’s self-reported monthly income.\n",
    "- delinq_2yrs\tfloat64\t0\tThe number of 30+ days past-due incidences of delinquency in the borrower's credit file for the past 2 years\n",
    "- earliest_cr_line\tobject\tJan-1985\tThe month the borrower's earliest reported credit line was opened\n",
    "- inq_last_6mths\tfloat64\t1\tThe number of inquiries in past 6 months (excluding auto and mortgage inquiries)\n",
    "- open_acc\tfloat64\t3\tThe number of open credit lines in the borrower's credit file.\n",
    "- pub_rec\tfloat64\t0\tNumber of derogatory public records\n",
    "- revol_bal\tfloat64\t13648\tTotal credit revolving balance\n",
    "- revol_util\tobject\t83.7%\tRevolving line utilization rate, or the amount of credit the borrower is using relative to all available revolving credit.\n",
    "- total_acc\tfloat64\t9\tThe total number of credit lines currently in the borrower's credit file\n",
    "- initial_list_status\tobject\tf\tThe initial listing status of the loan. Possible values are – W, F\n",
    "- out_prncp\tfloat64\t0\tRemaining outstanding principal for total amount funded\n",
    "- out_prncp_inv\tfloat64\t0\tRemaining outstanding principal for portion of total amount funded by investors\n",
    "- total_pymnt\tfloat64\t5863.16\tPayments received to date for total amount funded\n",
    "- total_pymnt_inv\tfloat64\t5833.84\tPayments received to date for portion of total amount funded by investors\n",
    "- total_rec_prncp\tfloat64\t5000\tPrincipal received to date"
   ]
  },
  {
   "cell_type": "markdown",
   "metadata": {},
   "source": [
    "- Within this group of columns, we need to drop the following columns:\n",
    "\n",
    "\n",
    "- zip_code: redundant with the addr_state column since only the first 3 digits of the 5 digit zip code are visible (which only can be used to identify the state the borrower lives in)\n",
    "- out_prncp: leaks data from the future, (after the loan already started to be paid off)\n",
    "- out_prncp_inv: also leaks data from the future, (after the loan already started to be paid off)\n",
    "- total_pymnt: also leaks data from the future, (after the loan already started to be paid off)\n",
    "- total_pymnt_inv: also leaks data from the future, (after the loan already started to be paid off)\n",
    "- total_rec_prncp: also leaks data from the future, (after the loan already started to be paid off)"
   ]
  },
  {
   "cell_type": "code",
   "execution_count": 8,
   "metadata": {},
   "outputs": [],
   "source": [
    "loans_2011 = loans_2011.drop([\"zip_code\", \"out_prncp\", \"out_prncp_inv\", \"total_pymnt\", \"total_pymnt_inv\", \"total_rec_prncp\"], axis=1)"
   ]
  },
  {
   "cell_type": "markdown",
   "metadata": {},
   "source": [
    "- name\tdtype\tfirst value\tdescription\n",
    "\n",
    "- total_rec_int\tfloat64\t863.16\tInterest received to date\n",
    "- total_rec_late_fee\tfloat64\t0\tLate fees received to date\n",
    "- recoveries\tfloat64\t0\tpost charge off gross recovery\n",
    "- collection_recovery_fee\tfloat64\t0\tpost charge off collection fee\n",
    "- last_pymnt_d\tobject\tJan-2015\tLast month payment was received\n",
    "- last_pymnt_amnt\tfloat64\t171.62\tLast total payment amount received\n",
    "- last_credit_pull_d\tobject\tJun-2016\tThe most recent month LC pulled credit for this loan\n",
    "- collections_12_mths_ex_med\tfloat64\t0\tNumber of collections in 12 months excluding medical collections\n",
    "- policy_code\tfloat64\t1\tpublicly available policy_code=1 new products not publicly available policy_code=2\n",
    "- application_type\tobject\tINDIVIDUAL\tIndicates whether the loan is an individual application or a joint application with two co-borrowers\n",
    "- acc_now_delinq\tfloat64\t0\tThe number of accounts on which the borrower is now delinquent.\n",
    "- chargeoff_within_12_mths\tfloat64\t0\tNumber of charge-offs within 12 months\n",
    "- delinq_amnt\tfloat64\t0\tThe past-due amount owed for the accounts on which the borrower is now delinquent.\n",
    "- pub_rec_bankruptcies\tfloat64\t0\tNumber of public record bankruptcies\n",
    "- tax_liens\tfloat64\t0\tNumber of tax liens\n",
    "\n",
    "\n",
    "- In the last group of columns, we need to drop the following columns:\n",
    "\n",
    "\n",
    "- total_rec_int: leaks data from the future, (after the loan already started to be paid off),\n",
    "- total_rec_late_fee: also leaks data from the future, (after the loan already started to be paid off),\n",
    "- recoveries: also leaks data from the future, (after the loan already started to be paid off),\n",
    "- collection_recovery_fee: also leaks data from the future, (after the loan already started to be paid off),\n",
    "- last_pymnt_d: also leaks data from the future, (after the loan already started to be paid off),\n",
    "- last_pymnt_amnt: also leaks data from the future, (after the loan already started to be paid off)."
   ]
  },
  {
   "cell_type": "code",
   "execution_count": 9,
   "metadata": {},
   "outputs": [],
   "source": [
    "loans_2011 = loans_2011.drop([\"total_rec_int\", \"total_rec_late_fee\", \"recoveries\", \"collection_recovery_fee\", \"last_pymnt_d\", \"last_pymnt_amnt\"], axis=1)"
   ]
  },
  {
   "cell_type": "code",
   "execution_count": 10,
   "metadata": {},
   "outputs": [
    {
     "name": "stdout",
     "output_type": "stream",
     "text": [
      "   loan_amnt        term  int_rate  installment emp_length home_ownership  \\\n",
      "0     5000.0   36 months    0.1065       162.87  10+ years           RENT   \n",
      "1     2500.0   60 months    0.1527        59.83   < 1 year           RENT   \n",
      "2     2400.0   36 months    0.1596        84.33  10+ years           RENT   \n",
      "\n",
      "   annual_inc verification_status  loan_status pymnt_plan        ...         \\\n",
      "0     24000.0            Verified   Fully Paid          n        ...          \n",
      "1     30000.0     Source Verified  Charged Off          n        ...          \n",
      "2     12252.0        Not Verified   Fully Paid          n        ...          \n",
      "\n",
      "  open_acc pub_rec revol_bal  revol_util  total_acc initial_list_status  \\\n",
      "0      3.0     0.0   13648.0       0.837        9.0                   f   \n",
      "1      3.0     0.0    1687.0       0.094        4.0                   f   \n",
      "2      2.0     0.0    2956.0       0.985       10.0                   f   \n",
      "\n",
      "   last_credit_pull_d  collections_12_mths_ex_med  policy_code  \\\n",
      "0            Aug-2018                         0.0          1.0   \n",
      "1            Oct-2016                         0.0          1.0   \n",
      "2            Jun-2017                         0.0          1.0   \n",
      "\n",
      "   application_type  \n",
      "0        Individual  \n",
      "1        Individual  \n",
      "2        Individual  \n",
      "\n",
      "[3 rows x 29 columns]\n",
      "(42538, 29)\n"
     ]
    }
   ],
   "source": [
    "print(loans_2011.head(3))\n",
    "print(loans_2011.shape)"
   ]
  },
  {
   "cell_type": "code",
   "execution_count": 11,
   "metadata": {},
   "outputs": [
    {
     "name": "stdout",
     "output_type": "stream",
     "text": [
      "Fully Paid                                             34116\n",
      "Charged Off                                             5670\n",
      "Does not meet the credit policy. Status:Fully Paid      1988\n",
      "Does not meet the credit policy. Status:Charged Off      761\n",
      "Name: loan_status, dtype: int64\n"
     ]
    }
   ],
   "source": [
    "print(loans_2011['loan_status'].value_counts())"
   ]
  },
  {
   "cell_type": "markdown",
   "metadata": {},
   "source": [
    "### Loan Status Meaning\n",
    "- Fully Paid\t34116\tLoan has been fully paid off.\n",
    "- Charged Off\t5670\tLoan for which there is no longer a reasonable expectation of further payments.\n",
    "- Does not meet the credit policy. Status:Fully Paid\t1988\tWhile the loan was paid off, the loan application today would no longer meet the credit policy and wouldn't be approved on to the marketplace.\n",
    "- Does not meet the credit policy. Status:Charged Off\t761\tWhile the loan was charged off, the loan application today would no longer meet the credit policy and wouldn't be approved on to the marketplace.\n",
    "\n",
    "\n",
    "- Reference: https://help.lendingclub.com/hc/en-us\n",
    "\n",
    "- In this case, I am, as an invester's perspective, interested in trying to predict which loans will be paid off on time and which ones won't be. Only the Fully Paid and Charged Off values describe the final outcome of the loan. The other values describe loans that are still on going and where the jury is still out on if the borrower will pay back the loan on time or not. While the Default status resembles the Charged Off status, in Lending Club's eyes, loans that are charged off have essentially no chance of being repaid while default ones have a small chance.\n"
   ]
  },
  {
   "cell_type": "code",
   "execution_count": 12,
   "metadata": {},
   "outputs": [],
   "source": [
    "# replace categorical column with numerical values\n",
    "loans_2011 = loans_2011[(loans_2011['loan_status'] == \"Fully Paid\") | (loans_2011['loan_status'] == \"Charged Off\")]\n",
    "\n",
    "status_replace = {\n",
    "    \"loan_status\" : {\n",
    "        \"Fully Paid\": 1,\n",
    "        \"Charged Off\": 0,\n",
    "    }\n",
    "}\n"
   ]
  },
  {
   "cell_type": "code",
   "execution_count": 13,
   "metadata": {},
   "outputs": [],
   "source": [
    "# remove all rows from loans_2011 that contain values other than Fully Paid or Charged Off for the loan_status column.\n",
    "loans_2011 = loans_2011.replace(status_replace)"
   ]
  },
  {
   "cell_type": "code",
   "execution_count": 14,
   "metadata": {},
   "outputs": [
    {
     "name": "stdout",
     "output_type": "stream",
     "text": [
      "['pymnt_plan', 'initial_list_status', 'collections_12_mths_ex_med', 'policy_code', 'application_type']\n"
     ]
    }
   ],
   "source": [
    "# drop the columns that has only one value\n",
    "orig_columns = loans_2011.columns\n",
    "\n",
    "drop_columns = []\n",
    "for col in orig_columns:\n",
    "    col_series = loans_2011[col].dropna().unique()\n",
    "    if len(col_series) == 1:\n",
    "        drop_columns.append(col)\n",
    "loans_2011 = loans_2011.drop(drop_columns, axis=1)\n",
    "print(drop_columns)"
   ]
  },
  {
   "cell_type": "code",
   "execution_count": 15,
   "metadata": {},
   "outputs": [
    {
     "data": {
      "text/html": [
       "<div>\n",
       "<style scoped>\n",
       "    .dataframe tbody tr th:only-of-type {\n",
       "        vertical-align: middle;\n",
       "    }\n",
       "\n",
       "    .dataframe tbody tr th {\n",
       "        vertical-align: top;\n",
       "    }\n",
       "\n",
       "    .dataframe thead th {\n",
       "        text-align: right;\n",
       "    }\n",
       "</style>\n",
       "<table border=\"1\" class=\"dataframe\">\n",
       "  <thead>\n",
       "    <tr style=\"text-align: right;\">\n",
       "      <th></th>\n",
       "      <th>loan_amnt</th>\n",
       "      <th>term</th>\n",
       "      <th>int_rate</th>\n",
       "      <th>installment</th>\n",
       "      <th>emp_length</th>\n",
       "      <th>home_ownership</th>\n",
       "      <th>annual_inc</th>\n",
       "      <th>verification_status</th>\n",
       "      <th>loan_status</th>\n",
       "      <th>purpose</th>\n",
       "      <th>...</th>\n",
       "      <th>earliest_cr_line</th>\n",
       "      <th>inq_last_6mths</th>\n",
       "      <th>mths_since_last_delinq</th>\n",
       "      <th>mths_since_last_record</th>\n",
       "      <th>open_acc</th>\n",
       "      <th>pub_rec</th>\n",
       "      <th>revol_bal</th>\n",
       "      <th>revol_util</th>\n",
       "      <th>total_acc</th>\n",
       "      <th>last_credit_pull_d</th>\n",
       "    </tr>\n",
       "  </thead>\n",
       "  <tbody>\n",
       "    <tr>\n",
       "      <th>0</th>\n",
       "      <td>5000.0</td>\n",
       "      <td>36 months</td>\n",
       "      <td>0.1065</td>\n",
       "      <td>162.87</td>\n",
       "      <td>10+ years</td>\n",
       "      <td>RENT</td>\n",
       "      <td>24000.0</td>\n",
       "      <td>Verified</td>\n",
       "      <td>1</td>\n",
       "      <td>credit_card</td>\n",
       "      <td>...</td>\n",
       "      <td>Jan-1985</td>\n",
       "      <td>1.0</td>\n",
       "      <td>NaN</td>\n",
       "      <td>NaN</td>\n",
       "      <td>3.0</td>\n",
       "      <td>0.0</td>\n",
       "      <td>13648.0</td>\n",
       "      <td>0.837</td>\n",
       "      <td>9.0</td>\n",
       "      <td>Aug-2018</td>\n",
       "    </tr>\n",
       "    <tr>\n",
       "      <th>1</th>\n",
       "      <td>2500.0</td>\n",
       "      <td>60 months</td>\n",
       "      <td>0.1527</td>\n",
       "      <td>59.83</td>\n",
       "      <td>&lt; 1 year</td>\n",
       "      <td>RENT</td>\n",
       "      <td>30000.0</td>\n",
       "      <td>Source Verified</td>\n",
       "      <td>0</td>\n",
       "      <td>car</td>\n",
       "      <td>...</td>\n",
       "      <td>Apr-1999</td>\n",
       "      <td>5.0</td>\n",
       "      <td>NaN</td>\n",
       "      <td>NaN</td>\n",
       "      <td>3.0</td>\n",
       "      <td>0.0</td>\n",
       "      <td>1687.0</td>\n",
       "      <td>0.094</td>\n",
       "      <td>4.0</td>\n",
       "      <td>Oct-2016</td>\n",
       "    </tr>\n",
       "    <tr>\n",
       "      <th>2</th>\n",
       "      <td>2400.0</td>\n",
       "      <td>36 months</td>\n",
       "      <td>0.1596</td>\n",
       "      <td>84.33</td>\n",
       "      <td>10+ years</td>\n",
       "      <td>RENT</td>\n",
       "      <td>12252.0</td>\n",
       "      <td>Not Verified</td>\n",
       "      <td>1</td>\n",
       "      <td>small_business</td>\n",
       "      <td>...</td>\n",
       "      <td>Nov-2001</td>\n",
       "      <td>2.0</td>\n",
       "      <td>NaN</td>\n",
       "      <td>NaN</td>\n",
       "      <td>2.0</td>\n",
       "      <td>0.0</td>\n",
       "      <td>2956.0</td>\n",
       "      <td>0.985</td>\n",
       "      <td>10.0</td>\n",
       "      <td>Jun-2017</td>\n",
       "    </tr>\n",
       "    <tr>\n",
       "      <th>3</th>\n",
       "      <td>10000.0</td>\n",
       "      <td>36 months</td>\n",
       "      <td>0.1349</td>\n",
       "      <td>339.31</td>\n",
       "      <td>10+ years</td>\n",
       "      <td>RENT</td>\n",
       "      <td>49200.0</td>\n",
       "      <td>Source Verified</td>\n",
       "      <td>1</td>\n",
       "      <td>other</td>\n",
       "      <td>...</td>\n",
       "      <td>Feb-1996</td>\n",
       "      <td>1.0</td>\n",
       "      <td>35.0</td>\n",
       "      <td>NaN</td>\n",
       "      <td>10.0</td>\n",
       "      <td>0.0</td>\n",
       "      <td>5598.0</td>\n",
       "      <td>0.210</td>\n",
       "      <td>37.0</td>\n",
       "      <td>Apr-2016</td>\n",
       "    </tr>\n",
       "    <tr>\n",
       "      <th>4</th>\n",
       "      <td>3000.0</td>\n",
       "      <td>60 months</td>\n",
       "      <td>0.1269</td>\n",
       "      <td>67.79</td>\n",
       "      <td>1 year</td>\n",
       "      <td>RENT</td>\n",
       "      <td>80000.0</td>\n",
       "      <td>Source Verified</td>\n",
       "      <td>1</td>\n",
       "      <td>other</td>\n",
       "      <td>...</td>\n",
       "      <td>Jan-1996</td>\n",
       "      <td>0.0</td>\n",
       "      <td>38.0</td>\n",
       "      <td>NaN</td>\n",
       "      <td>15.0</td>\n",
       "      <td>0.0</td>\n",
       "      <td>27783.0</td>\n",
       "      <td>0.539</td>\n",
       "      <td>38.0</td>\n",
       "      <td>Apr-2018</td>\n",
       "    </tr>\n",
       "  </tbody>\n",
       "</table>\n",
       "<p>5 rows × 24 columns</p>\n",
       "</div>"
      ],
      "text/plain": [
       "   loan_amnt        term  int_rate  installment emp_length home_ownership  \\\n",
       "0     5000.0   36 months    0.1065       162.87  10+ years           RENT   \n",
       "1     2500.0   60 months    0.1527        59.83   < 1 year           RENT   \n",
       "2     2400.0   36 months    0.1596        84.33  10+ years           RENT   \n",
       "3    10000.0   36 months    0.1349       339.31  10+ years           RENT   \n",
       "4     3000.0   60 months    0.1269        67.79     1 year           RENT   \n",
       "\n",
       "   annual_inc verification_status  loan_status         purpose  \\\n",
       "0     24000.0            Verified            1     credit_card   \n",
       "1     30000.0     Source Verified            0             car   \n",
       "2     12252.0        Not Verified            1  small_business   \n",
       "3     49200.0     Source Verified            1           other   \n",
       "4     80000.0     Source Verified            1           other   \n",
       "\n",
       "          ...         earliest_cr_line inq_last_6mths  mths_since_last_delinq  \\\n",
       "0         ...                 Jan-1985            1.0                     NaN   \n",
       "1         ...                 Apr-1999            5.0                     NaN   \n",
       "2         ...                 Nov-2001            2.0                     NaN   \n",
       "3         ...                 Feb-1996            1.0                    35.0   \n",
       "4         ...                 Jan-1996            0.0                    38.0   \n",
       "\n",
       "   mths_since_last_record open_acc  pub_rec  revol_bal  revol_util  total_acc  \\\n",
       "0                     NaN      3.0      0.0    13648.0       0.837        9.0   \n",
       "1                     NaN      3.0      0.0     1687.0       0.094        4.0   \n",
       "2                     NaN      2.0      0.0     2956.0       0.985       10.0   \n",
       "3                     NaN     10.0      0.0     5598.0       0.210       37.0   \n",
       "4                     NaN     15.0      0.0    27783.0       0.539       38.0   \n",
       "\n",
       "   last_credit_pull_d  \n",
       "0            Aug-2018  \n",
       "1            Oct-2016  \n",
       "2            Jun-2017  \n",
       "3            Apr-2016  \n",
       "4            Apr-2018  \n",
       "\n",
       "[5 rows x 24 columns]"
      ]
     },
     "execution_count": 15,
     "metadata": {},
     "output_type": "execute_result"
    }
   ],
   "source": [
    "loans_2011.head()"
   ]
  },
  {
   "cell_type": "markdown",
   "metadata": {},
   "source": [
    "** For Machine learning model, we need to remove all null values and values should be numerical. **"
   ]
  },
  {
   "cell_type": "code",
   "execution_count": 16,
   "metadata": {
    "scrolled": true
   },
   "outputs": [
    {
     "name": "stdout",
     "output_type": "stream",
     "text": [
      "loan_amnt                     0\n",
      "term                          0\n",
      "int_rate                      0\n",
      "installment                   0\n",
      "emp_length                 1078\n",
      "home_ownership                0\n",
      "annual_inc                    0\n",
      "verification_status           0\n",
      "loan_status                   0\n",
      "purpose                       0\n",
      "title                        11\n",
      "addr_state                    0\n",
      "dti                           0\n",
      "delinq_2yrs                   0\n",
      "earliest_cr_line              0\n",
      "inq_last_6mths                0\n",
      "mths_since_last_delinq    25727\n",
      "mths_since_last_record    36995\n",
      "open_acc                      0\n",
      "pub_rec                       0\n",
      "revol_bal                     0\n",
      "revol_util                   50\n",
      "total_acc                     0\n",
      "last_credit_pull_d            2\n",
      "dtype: int64\n"
     ]
    }
   ],
   "source": [
    "# it shows which columns have null values\n",
    "null_counts = loans_2011.isnull().sum()\n",
    "print(null_counts)"
   ]
  },
  {
   "cell_type": "code",
   "execution_count": 20,
   "metadata": {},
   "outputs": [
    {
     "name": "stdout",
     "output_type": "stream",
     "text": [
      "float64    12\n",
      "object      9\n",
      "int64       1\n",
      "dtype: int64\n"
     ]
    }
   ],
   "source": [
    "# It shows that mths_since_last_delinq,mths_since_last_record,mths_since_last_major_derog columns contain 25727,36995,39786 values and title,revol_util,last_credit_pull_d columns each has 11,50,2 null values\n",
    "# so remove columns entirely where more than 1% of the rows for that column contain a null value. \n",
    "# I decide not to drop emp_length column since it is much imformative\n",
    "# In addition, we'll remove the remaining rows containing null values.\n",
    "\n",
    "loans=loans_2011.drop([\"mths_since_last_delinq\",\"mths_since_last_record\"],axis=1)\n",
    "loans=loans.dropna(axis=0)\n",
    "print(loans.dtypes.value_counts())"
   ]
  },
  {
   "cell_type": "code",
   "execution_count": 21,
   "metadata": {},
   "outputs": [
    {
     "name": "stdout",
     "output_type": "stream",
     "text": [
      "loan_amnt              0\n",
      "term                   0\n",
      "int_rate               0\n",
      "installment            0\n",
      "emp_length             0\n",
      "home_ownership         0\n",
      "annual_inc             0\n",
      "verification_status    0\n",
      "loan_status            0\n",
      "purpose                0\n",
      "title                  0\n",
      "addr_state             0\n",
      "dti                    0\n",
      "delinq_2yrs            0\n",
      "earliest_cr_line       0\n",
      "inq_last_6mths         0\n",
      "open_acc               0\n",
      "pub_rec                0\n",
      "revol_bal              0\n",
      "revol_util             0\n",
      "total_acc              0\n",
      "last_credit_pull_d     0\n",
      "dtype: int64\n"
     ]
    }
   ],
   "source": [
    "# check if null values are removed properly\n",
    "null_counts = loans.isnull().sum()\n",
    "print(null_counts)"
   ]
  },
  {
   "cell_type": "code",
   "execution_count": 22,
   "metadata": {},
   "outputs": [
    {
     "data": {
      "text/plain": [
       "array(['10+ years', '< 1 year', '1 year', '3 years', '8 years', '9 years',\n",
       "       '4 years', '5 years', '6 years', '2 years', '7 years'],\n",
       "      dtype=object)"
      ]
     },
     "execution_count": 22,
     "metadata": {},
     "output_type": "execute_result"
    }
   ],
   "source": [
    "# treat emp_length column, firstly check the values in emp_length column\n",
    "loans.emp_length.unique()"
   ]
  },
  {
   "cell_type": "code",
   "execution_count": 23,
   "metadata": {},
   "outputs": [],
   "source": [
    "# Make dictionary and use it to replace emp_length with numerical values\n",
    "\n",
    "mapping_dict = {\n",
    "    \"emp_length\": {\n",
    "        \"10+ years\": 10,\n",
    "        \"9 years\": 9,\n",
    "        \"8 years\": 8,\n",
    "        \"7 years\": 7,\n",
    "        \"6 years\": 6,\n",
    "        \"5 years\": 5,\n",
    "        \"4 years\": 4,\n",
    "        \"3 years\": 3,\n",
    "        \"2 years\": 2,\n",
    "        \"1 year\": 1,\n",
    "        \"< 1 year\": 0,\n",
    "        \"n/a\": 0\n",
    "    }\n",
    "}\n",
    "loans = loans.replace(mapping_dict)"
   ]
  },
  {
   "cell_type": "code",
   "execution_count": 24,
   "metadata": {},
   "outputs": [
    {
     "name": "stdout",
     "output_type": "stream",
     "text": [
      "term                     36 months\n",
      "home_ownership                RENT\n",
      "verification_status       Verified\n",
      "purpose                credit_card\n",
      "title                     Computer\n",
      "addr_state                      AZ\n",
      "earliest_cr_line          Jan-1985\n",
      "last_credit_pull_d        Aug-2018\n",
      "Name: 0, dtype: object\n"
     ]
    }
   ],
   "source": [
    "# check the dtype of columns\n",
    "object_columns_df = loans.select_dtypes(include=['object'])\n",
    "print(object_columns_df.iloc[0])"
   ]
  },
  {
   "cell_type": "code",
   "execution_count": null,
   "metadata": {},
   "outputs": [],
   "source": []
  },
  {
   "cell_type": "code",
   "execution_count": 25,
   "metadata": {
    "scrolled": true
   },
   "outputs": [
    {
     "name": "stdout",
     "output_type": "stream",
     "text": [
      "RENT        18471\n",
      "MORTGAGE    17242\n",
      "OWN          2837\n",
      "OTHER          96\n",
      "NONE            3\n",
      "Name: home_ownership, dtype: int64\n",
      "Not Verified       16468\n",
      "Verified           12377\n",
      "Source Verified     9804\n",
      "Name: verification_status, dtype: int64\n",
      "10    8897\n",
      "0     4576\n",
      "2     4389\n",
      "3     4094\n",
      "4     3435\n",
      "5     3279\n",
      "1     3240\n",
      "6     2227\n",
      "7     1771\n",
      "8     1483\n",
      "9     1258\n",
      "Name: emp_length, dtype: int64\n",
      " 36 months    28234\n",
      " 60 months    10415\n",
      "Name: term, dtype: int64\n",
      "CA    6907\n",
      "NY    3711\n",
      "FL    2779\n",
      "TX    2674\n",
      "NJ    1825\n",
      "IL    1487\n",
      "PA    1481\n",
      "VA    1378\n",
      "GA    1358\n",
      "MA    1313\n",
      "OH    1190\n",
      "MD    1034\n",
      "AZ     832\n",
      "WA     807\n",
      "CO     769\n",
      "NC     761\n",
      "CT     734\n",
      "MI     688\n",
      "MO     661\n",
      "MN     591\n",
      "NV     482\n",
      "SC     464\n",
      "WI     445\n",
      "OR     436\n",
      "AL     433\n",
      "LA     426\n",
      "KY     323\n",
      "OK     293\n",
      "KS     260\n",
      "UT     253\n",
      "AR     235\n",
      "DC     212\n",
      "RI     197\n",
      "NM     184\n",
      "HI     169\n",
      "WV     168\n",
      "NH     162\n",
      "DE     110\n",
      "AK      79\n",
      "WY      79\n",
      "MT      79\n",
      "SD      62\n",
      "VT      54\n",
      "MS      19\n",
      "TN      17\n",
      "IN       9\n",
      "ID       6\n",
      "IA       5\n",
      "NE       5\n",
      "ME       3\n",
      "Name: addr_state, dtype: int64\n"
     ]
    }
   ],
   "source": [
    "# As you see below, the home_ownership, verification_status, emp_length, term, and addr_state columns all contain multiple discrete values. \n",
    "# We should clean the emp_length column and treat it as a numerical one since the values have ordering\n",
    "\n",
    "cols = ['home_ownership', 'verification_status', 'emp_length', 'term', 'addr_state']\n",
    "for c in cols:\n",
    "    print(loans[c].value_counts())"
   ]
  },
  {
   "cell_type": "code",
   "execution_count": 26,
   "metadata": {
    "scrolled": false
   },
   "outputs": [
    {
     "name": "stdout",
     "output_type": "stream",
     "text": [
      "debt_consolidation    18262\n",
      "credit_card            5004\n",
      "other                  3824\n",
      "home_improvement       2884\n",
      "major_purchase         2109\n",
      "small_business         1783\n",
      "car                    1497\n",
      "wedding                 934\n",
      "medical                 668\n",
      "moving                  557\n",
      "house                   369\n",
      "vacation                351\n",
      "educational             312\n",
      "renewable_energy         95\n",
      "Name: purpose, dtype: int64\n",
      "Debt Consolidation                                    2149\n",
      "Debt Consolidation Loan                               1695\n",
      "Personal Loan                                          643\n",
      "Consolidation                                          510\n",
      "debt consolidation                                     489\n",
      "Credit Card Consolidation                              349\n",
      "Home Improvement                                       347\n",
      "Debt consolidation                                     324\n",
      "Small Business Loan                                    317\n",
      "Credit Card Loan                                       308\n",
      "Personal                                               297\n",
      "Consolidation Loan                                     255\n",
      "Home Improvement Loan                                  240\n",
      "personal loan                                          224\n",
      "personal                                               207\n",
      "Loan                                                   207\n",
      "Wedding Loan                                           207\n",
      "consolidation                                          198\n",
      "Car Loan                                               197\n",
      "Other Loan                                             179\n",
      "Wedding                                                153\n",
      "Credit Card Payoff                                     149\n",
      "Credit Card Refinance                                  141\n",
      "Major Purchase Loan                                    137\n",
      "Consolidate                                            126\n",
      "Credit Card                                            114\n",
      "Medical                                                114\n",
      "home improvement                                       106\n",
      "Credit Cards                                            93\n",
      "My Loan                                                 92\n",
      "                                                      ... \n",
      "Station                                                  1\n",
      "Greg's Loan                                              1\n",
      "Business Expansion For Growing Company                   1\n",
      "auto maintenance                                         1\n",
      "Eddies debt                                              1\n",
      "Loan to pay off Credit cards                             1\n",
      "For the Holidays                                         1\n",
      "Pay CC Debt Down to Own a Harley                         1\n",
      "Fix Jeep, Sell Infinity                                  1\n",
      "Thunderbird 62                                           1\n",
      "TW OKC                                                   1\n",
      "great simple loan                                        1\n",
      "Vickie's Debt Consolidation                              1\n",
      "Debt Consolidation / Family Relocation                   1\n",
      "Jordans big chance                                       1\n",
      "start up                                                 1\n",
      "Young professional looking to pay off college debt       1\n",
      "Cafe Business Loan                                       1\n",
      "Going back to school for MBA                             1\n",
      "No more Pink Kitchen Nightmare....                       1\n",
      "leah's surgery fund                                      1\n",
      "Jessicas Medical Bills                                   1\n",
      "Loan For Sister's Wedding                                1\n",
      "Jeannie's Loan 2010                                      1\n",
      "Financial Peace                                          1\n",
      "credit card &to pay loan                                 1\n",
      "Bridge from fellowship to dream job!                     1\n",
      "Jackson                                                  1\n",
      "loan paid off fast                                       1\n",
      "Inventory for Ebay Gold Store                            1\n",
      "Name: title, Length: 19141, dtype: int64\n"
     ]
    }
   ],
   "source": [
    "print(loans[\"purpose\"].value_counts())\n",
    "print(loans[\"title\"].value_counts())"
   ]
  },
  {
   "cell_type": "code",
   "execution_count": 27,
   "metadata": {},
   "outputs": [],
   "source": [
    "loans = loans.drop(['last_credit_pull_d', 'addr_state', 'title', 'earliest_cr_line'],axis=1)"
   ]
  },
  {
   "cell_type": "code",
   "execution_count": 28,
   "metadata": {},
   "outputs": [],
   "source": [
    "# encode the home_ownership, verification_status, purpose, and term columns as dummy variables so we can use them in our model.\n",
    "\n",
    "cat_columns = [\"home_ownership\", \"verification_status\", \"purpose\", \"term\"]\n",
    "dummy_df = pd.get_dummies(loans[cat_columns])\n",
    "loans_dm = pd.concat([loans, dummy_df], axis=1)\n",
    "loans_dm = loans_dm.drop(cat_columns, axis=1)"
   ]
  },
  {
   "cell_type": "code",
   "execution_count": 29,
   "metadata": {},
   "outputs": [
    {
     "data": {
      "text/html": [
       "<div>\n",
       "<style scoped>\n",
       "    .dataframe tbody tr th:only-of-type {\n",
       "        vertical-align: middle;\n",
       "    }\n",
       "\n",
       "    .dataframe tbody tr th {\n",
       "        vertical-align: top;\n",
       "    }\n",
       "\n",
       "    .dataframe thead th {\n",
       "        text-align: right;\n",
       "    }\n",
       "</style>\n",
       "<table border=\"1\" class=\"dataframe\">\n",
       "  <thead>\n",
       "    <tr style=\"text-align: right;\">\n",
       "      <th></th>\n",
       "      <th>loan_amnt</th>\n",
       "      <th>int_rate</th>\n",
       "      <th>installment</th>\n",
       "      <th>emp_length</th>\n",
       "      <th>annual_inc</th>\n",
       "      <th>loan_status</th>\n",
       "      <th>dti</th>\n",
       "      <th>delinq_2yrs</th>\n",
       "      <th>inq_last_6mths</th>\n",
       "      <th>open_acc</th>\n",
       "      <th>...</th>\n",
       "      <th>purpose_major_purchase</th>\n",
       "      <th>purpose_medical</th>\n",
       "      <th>purpose_moving</th>\n",
       "      <th>purpose_other</th>\n",
       "      <th>purpose_renewable_energy</th>\n",
       "      <th>purpose_small_business</th>\n",
       "      <th>purpose_vacation</th>\n",
       "      <th>purpose_wedding</th>\n",
       "      <th>term_ 36 months</th>\n",
       "      <th>term_ 60 months</th>\n",
       "    </tr>\n",
       "  </thead>\n",
       "  <tbody>\n",
       "    <tr>\n",
       "      <th>0</th>\n",
       "      <td>5000.0</td>\n",
       "      <td>0.1065</td>\n",
       "      <td>162.87</td>\n",
       "      <td>10</td>\n",
       "      <td>24000.0</td>\n",
       "      <td>1</td>\n",
       "      <td>27.65</td>\n",
       "      <td>0.0</td>\n",
       "      <td>1.0</td>\n",
       "      <td>3.0</td>\n",
       "      <td>...</td>\n",
       "      <td>0</td>\n",
       "      <td>0</td>\n",
       "      <td>0</td>\n",
       "      <td>0</td>\n",
       "      <td>0</td>\n",
       "      <td>0</td>\n",
       "      <td>0</td>\n",
       "      <td>0</td>\n",
       "      <td>1</td>\n",
       "      <td>0</td>\n",
       "    </tr>\n",
       "    <tr>\n",
       "      <th>1</th>\n",
       "      <td>2500.0</td>\n",
       "      <td>0.1527</td>\n",
       "      <td>59.83</td>\n",
       "      <td>0</td>\n",
       "      <td>30000.0</td>\n",
       "      <td>0</td>\n",
       "      <td>1.00</td>\n",
       "      <td>0.0</td>\n",
       "      <td>5.0</td>\n",
       "      <td>3.0</td>\n",
       "      <td>...</td>\n",
       "      <td>0</td>\n",
       "      <td>0</td>\n",
       "      <td>0</td>\n",
       "      <td>0</td>\n",
       "      <td>0</td>\n",
       "      <td>0</td>\n",
       "      <td>0</td>\n",
       "      <td>0</td>\n",
       "      <td>0</td>\n",
       "      <td>1</td>\n",
       "    </tr>\n",
       "    <tr>\n",
       "      <th>2</th>\n",
       "      <td>2400.0</td>\n",
       "      <td>0.1596</td>\n",
       "      <td>84.33</td>\n",
       "      <td>10</td>\n",
       "      <td>12252.0</td>\n",
       "      <td>1</td>\n",
       "      <td>8.72</td>\n",
       "      <td>0.0</td>\n",
       "      <td>2.0</td>\n",
       "      <td>2.0</td>\n",
       "      <td>...</td>\n",
       "      <td>0</td>\n",
       "      <td>0</td>\n",
       "      <td>0</td>\n",
       "      <td>0</td>\n",
       "      <td>0</td>\n",
       "      <td>1</td>\n",
       "      <td>0</td>\n",
       "      <td>0</td>\n",
       "      <td>1</td>\n",
       "      <td>0</td>\n",
       "    </tr>\n",
       "    <tr>\n",
       "      <th>3</th>\n",
       "      <td>10000.0</td>\n",
       "      <td>0.1349</td>\n",
       "      <td>339.31</td>\n",
       "      <td>10</td>\n",
       "      <td>49200.0</td>\n",
       "      <td>1</td>\n",
       "      <td>20.00</td>\n",
       "      <td>0.0</td>\n",
       "      <td>1.0</td>\n",
       "      <td>10.0</td>\n",
       "      <td>...</td>\n",
       "      <td>0</td>\n",
       "      <td>0</td>\n",
       "      <td>0</td>\n",
       "      <td>1</td>\n",
       "      <td>0</td>\n",
       "      <td>0</td>\n",
       "      <td>0</td>\n",
       "      <td>0</td>\n",
       "      <td>1</td>\n",
       "      <td>0</td>\n",
       "    </tr>\n",
       "    <tr>\n",
       "      <th>4</th>\n",
       "      <td>3000.0</td>\n",
       "      <td>0.1269</td>\n",
       "      <td>67.79</td>\n",
       "      <td>1</td>\n",
       "      <td>80000.0</td>\n",
       "      <td>1</td>\n",
       "      <td>17.94</td>\n",
       "      <td>0.0</td>\n",
       "      <td>0.0</td>\n",
       "      <td>15.0</td>\n",
       "      <td>...</td>\n",
       "      <td>0</td>\n",
       "      <td>0</td>\n",
       "      <td>0</td>\n",
       "      <td>1</td>\n",
       "      <td>0</td>\n",
       "      <td>0</td>\n",
       "      <td>0</td>\n",
       "      <td>0</td>\n",
       "      <td>0</td>\n",
       "      <td>1</td>\n",
       "    </tr>\n",
       "  </tbody>\n",
       "</table>\n",
       "<p>5 rows × 38 columns</p>\n",
       "</div>"
      ],
      "text/plain": [
       "   loan_amnt  int_rate  installment  emp_length  annual_inc  loan_status  \\\n",
       "0     5000.0    0.1065       162.87          10     24000.0            1   \n",
       "1     2500.0    0.1527        59.83           0     30000.0            0   \n",
       "2     2400.0    0.1596        84.33          10     12252.0            1   \n",
       "3    10000.0    0.1349       339.31          10     49200.0            1   \n",
       "4     3000.0    0.1269        67.79           1     80000.0            1   \n",
       "\n",
       "     dti  delinq_2yrs  inq_last_6mths  open_acc       ...         \\\n",
       "0  27.65          0.0             1.0       3.0       ...          \n",
       "1   1.00          0.0             5.0       3.0       ...          \n",
       "2   8.72          0.0             2.0       2.0       ...          \n",
       "3  20.00          0.0             1.0      10.0       ...          \n",
       "4  17.94          0.0             0.0      15.0       ...          \n",
       "\n",
       "   purpose_major_purchase  purpose_medical  purpose_moving  purpose_other  \\\n",
       "0                       0                0               0              0   \n",
       "1                       0                0               0              0   \n",
       "2                       0                0               0              0   \n",
       "3                       0                0               0              1   \n",
       "4                       0                0               0              1   \n",
       "\n",
       "   purpose_renewable_energy  purpose_small_business  purpose_vacation  \\\n",
       "0                         0                       0                 0   \n",
       "1                         0                       0                 0   \n",
       "2                         0                       1                 0   \n",
       "3                         0                       0                 0   \n",
       "4                         0                       0                 0   \n",
       "\n",
       "   purpose_wedding  term_ 36 months  term_ 60 months  \n",
       "0                0                1                0  \n",
       "1                0                0                1  \n",
       "2                0                1                0  \n",
       "3                0                1                0  \n",
       "4                0                0                1  \n",
       "\n",
       "[5 rows x 38 columns]"
      ]
     },
     "execution_count": 29,
     "metadata": {},
     "output_type": "execute_result"
    }
   ],
   "source": [
    "loans_dm.head()"
   ]
  },
  {
   "cell_type": "code",
   "execution_count": 30,
   "metadata": {},
   "outputs": [
    {
     "data": {
      "text/plain": [
       "(38649, 38)"
      ]
     },
     "execution_count": 30,
     "metadata": {},
     "output_type": "execute_result"
    }
   ],
   "source": [
    "loans_dm.shape"
   ]
  },
  {
   "cell_type": "code",
   "execution_count": 31,
   "metadata": {},
   "outputs": [
    {
     "name": "stdout",
     "output_type": "stream",
     "text": [
      "true positive rate :  1.0\n",
      "false positive rate :  1.0\n",
      "accuracy : 0.8603832929072154\n"
     ]
    }
   ],
   "source": [
    "import numpy\n",
    "\n",
    "# This is how we build a model for prediction\n",
    "# Predict that all loans will be paid off on time.\n",
    "\n",
    "predictions = pd.Series(numpy.ones(loans_dm.shape[0]))\n",
    "\n",
    "# False positives.\n",
    "fp_filter = (predictions == 1) & (loans_dm[\"loan_status\"] == 0)\n",
    "fp = len(predictions[fp_filter])\n",
    "\n",
    "# True positives.\n",
    "tp_filter = (predictions == 1) & (loans_dm[\"loan_status\"] == 1)\n",
    "tp = len(predictions[tp_filter])\n",
    "\n",
    "# False negatives.\n",
    "fn_filter = (predictions == 0) & (loans_dm[\"loan_status\"] == 1)\n",
    "fn = len(predictions[fn_filter])\n",
    "\n",
    "# True negatives\n",
    "tn_filter = (predictions == 0) & (loans_dm[\"loan_status\"] == 0)\n",
    "tn = len(predictions[tn_filter])\n",
    "\n",
    "# Rates\n",
    "tpr = tp / (tp + fn)\n",
    "fpr = fp / (fp + tn)\n",
    "\n",
    "print('true positive rate : ',tpr)\n",
    "print('false positive rate : ',fpr)\n",
    "\n",
    "accuracy = (tp+tn)/(tp+tn+fp+fn)\n",
    "print('accuracy :',accuracy)"
   ]
  },
  {
   "cell_type": "markdown",
   "metadata": {},
   "source": [
    "###  A good algorithm to apply to binary classification problems is logistic regression, for the following reasons:\n",
    "\n",
    "** it's quick to train and we can iterate more quickly, **\n",
    "** it's less prone to overfitting than more complex models like decision trees, **\n",
    "** it's easy to interpret. **"
   ]
  },
  {
   "cell_type": "code",
   "execution_count": 32,
   "metadata": {},
   "outputs": [],
   "source": [
    "from sklearn.linear_model import LogisticRegression\n",
    "\n",
    "lr = LogisticRegression()\n",
    "\n",
    "cols = loans_dm.columns\n",
    "train_cols = cols.drop(\"loan_status\")\n",
    "features = loans_dm[train_cols]\n",
    "target = loans_dm[\"loan_status\"]\n",
    "\n",
    "lr.fit(features, target)\n",
    "predictions = lr.predict(features)"
   ]
  },
  {
   "cell_type": "markdown",
   "metadata": {},
   "source": [
    "- Perform k-fold cross validation to get the accuracy of the model"
   ]
  },
  {
   "cell_type": "code",
   "execution_count": 33,
   "metadata": {},
   "outputs": [
    {
     "name": "stdout",
     "output_type": "stream",
     "text": [
      "true positive rate :  0.9993804021190248\n",
      "false positive rate :  0.9988545246277205\n",
      "accuracy : 0.8600101287416371\n"
     ]
    }
   ],
   "source": [
    "from sklearn.model_selection import cross_val_predict\n",
    "lr = LogisticRegression()\n",
    "predictions = cross_val_predict(lr,features,target,cv=3)\n",
    "predictions = pd.Series(predictions)\n",
    "\n",
    "# False positives.\n",
    "fp_filter = (predictions == 1) & (loans_dm[\"loan_status\"] == 0)\n",
    "fp = len(predictions[fp_filter])\n",
    "\n",
    "# True positives.\n",
    "tp_filter = (predictions == 1) & (loans_dm[\"loan_status\"] == 1)\n",
    "tp = len(predictions[tp_filter])\n",
    "\n",
    "# False negatives.\n",
    "fn_filter = (predictions == 0) & (loans_dm[\"loan_status\"] == 1)\n",
    "fn = len(predictions[fn_filter])\n",
    "\n",
    "# True negatives\n",
    "tn_filter = (predictions == 0) & (loans_dm[\"loan_status\"] == 0)\n",
    "tn = len(predictions[tn_filter])\n",
    "\n",
    "# Rates\n",
    "tpr = tp  / (tp + fn)\n",
    "fpr = fp  / (fp + tn)\n",
    "\n",
    "\n",
    "print('true positive rate : ',tpr)\n",
    "print('false positive rate : ',fpr)\n",
    "\n",
    "accuracy = (tp+tn)/(tp+tn+fp+fn)\n",
    "print('accuracy :',accuracy)"
   ]
  },
  {
   "cell_type": "code",
   "execution_count": 34,
   "metadata": {},
   "outputs": [
    {
     "data": {
      "text/plain": [
       "1    33226\n",
       "0     5423\n",
       "Name: loan_status, dtype: int64"
      ]
     },
     "execution_count": 34,
     "metadata": {},
     "output_type": "execute_result"
    }
   ],
   "source": [
    "loans_dm.loan_status.value_counts()"
   ]
  },
  {
   "cell_type": "code",
   "execution_count": 35,
   "metadata": {},
   "outputs": [],
   "source": [
    "# There is imbalnce in the classes.\n",
    "# The solution would be \n",
    "# 1. oversampling/undersampling \n",
    "# 2. penalizing misclassficationof the less prevalent class more than the other class\n",
    "# with scikit-learn, we can easily apply the 2nd method "
   ]
  },
  {
   "cell_type": "code",
   "execution_count": 36,
   "metadata": {},
   "outputs": [
    {
     "name": "stdout",
     "output_type": "stream",
     "text": [
      "true positive rate :  0.6319588587007032\n",
      "false positive rate :  0.6237113402061856\n",
      "accuracy : 0.5962630274275662\n"
     ]
    }
   ],
   "source": [
    "from sklearn.model_selection import cross_val_predict\n",
    "\n",
    "lr = LogisticRegression(class_weight=\"balanced\")\n",
    "predictions = cross_val_predict(lr, features, target, cv=3)\n",
    "predictions = pd.Series(predictions)\n",
    "\n",
    "\n",
    "# False positives.\n",
    "fp_filter = (predictions == 1) & (loans_dm[\"loan_status\"] == 0)\n",
    "fp = len(predictions[fp_filter])\n",
    "\n",
    "# True positives.\n",
    "tp_filter = (predictions == 1) & (loans_dm[\"loan_status\"] == 1)\n",
    "tp = len(predictions[tp_filter])\n",
    "\n",
    "# False negatives.\n",
    "fn_filter = (predictions == 0) & (loans_dm[\"loan_status\"] == 1)\n",
    "fn = len(predictions[fn_filter])\n",
    "\n",
    "# True negatives\n",
    "tn_filter = (predictions == 0) & (loans_dm[\"loan_status\"] == 0)\n",
    "tn = len(predictions[tn_filter])\n",
    "\n",
    "# Rates\n",
    "tpr = tp / (tp + fn)\n",
    "fpr = fp / (fp + tn)\n",
    "\n",
    "print('true positive rate : ',tpr)\n",
    "print('false positive rate : ',fpr)\n",
    "\n",
    "accuracy = (tp+tn)/(tp+tn+fp+fn)\n",
    "print('accuracy :',accuracy)"
   ]
  },
  {
   "cell_type": "code",
   "execution_count": 37,
   "metadata": {},
   "outputs": [
    {
     "name": "stdout",
     "output_type": "stream",
     "text": [
      "true positive rate :  0.062486446296353665\n",
      "false positive rate :  0.06147384497899962\n",
      "accuracy : 0.184796225711011\n"
     ]
    }
   ],
   "source": [
    "from sklearn.linear_model import LogisticRegression\n",
    "from sklearn.model_selection import cross_val_predict\n",
    "penalty = {\n",
    "    0: 11,\n",
    "    1: 1\n",
    "}\n",
    "# This above will impose a penalty of 6 for misclassifying a 0, and a penalty of 1 for misclassifying a 1.\n",
    "# Since there are less 0.\n",
    "\n",
    "lr = LogisticRegression(class_weight=penalty)\n",
    "predictions = cross_val_predict(lr, features, target, cv=3)\n",
    "predictions = pd.Series(predictions)\n",
    "\n",
    "# False positives.\n",
    "fp_filter = (predictions == 1) & (loans_dm[\"loan_status\"] == 0)\n",
    "fp = len(predictions[fp_filter])\n",
    "\n",
    "# True positives.\n",
    "tp_filter = (predictions == 1) & (loans_dm[\"loan_status\"] == 1)\n",
    "tp = len(predictions[tp_filter])\n",
    "\n",
    "# False negatives.\n",
    "fn_filter = (predictions == 0) & (loans_dm[\"loan_status\"] == 1)\n",
    "fn = len(predictions[fn_filter])\n",
    "\n",
    "# True negatives\n",
    "tn_filter = (predictions == 0) & (loans_dm[\"loan_status\"] == 0)\n",
    "tn = len(predictions[tn_filter])\n",
    "\n",
    "# Rates\n",
    "tpr = tp / (tp + fn)\n",
    "fpr = fp / (fp + tn)\n",
    "\n",
    "print('true positive rate : ',tpr)\n",
    "print('false positive rate : ',fpr)\n",
    "\n",
    "accuracy = (tp+tn)/(tp+tn+fp+fn)\n",
    "print('accuracy :',accuracy)"
   ]
  },
  {
   "cell_type": "code",
   "execution_count": 38,
   "metadata": {},
   "outputs": [
    {
     "name": "stdout",
     "output_type": "stream",
     "text": [
      "true positive rate :  0.9711886985346511\n",
      "false positive rate :  0.9683085147002672\n",
      "accuracy : 0.8400191912999441\n"
     ]
    }
   ],
   "source": [
    "# I may use other algorithm RandomForestClassfier\n",
    "# However, the result does not seem to imporive the model\n",
    "\n",
    "from sklearn.ensemble import RandomForestClassifier\n",
    "\n",
    "rf = RandomForestClassifier(class_weight=\"balanced\", random_state=1)\n",
    "predictions = cross_val_predict(rf, features, target, cv=3)\n",
    "predictions = pd.Series(predictions)\n",
    "\n",
    "# False positives.\n",
    "fp_filter = (predictions == 1) & (loans_dm[\"loan_status\"] == 0)\n",
    "fp = len(predictions[fp_filter])\n",
    "\n",
    "# True positives.`\n",
    "tp_filter = (predictions == 1) & (loans_dm[\"loan_status\"] == 1)\n",
    "tp = len(predictions[tp_filter])\n",
    "\n",
    "# False negatives.\n",
    "fn_filter = (predictions == 0) & (loans_dm[\"loan_status\"] == 1)\n",
    "fn = len(predictions[fn_filter])\n",
    "\n",
    "# True negatives\n",
    "tn_filter = (predictions == 0) & (loans_dm[\"loan_status\"] == 0)\n",
    "tn = len(predictions[tn_filter])\n",
    "\n",
    "# Rates\n",
    "tpr = tp / (tp + fn)\n",
    "fpr = fp / (fp + tn)\n",
    "\n",
    "print('true positive rate : ',tpr)\n",
    "print('false positive rate : ',fpr)\n",
    "\n",
    "accuracy = (tp+tn)/(tp+tn+fp+fn)\n",
    "print('accuracy :',accuracy)"
   ]
  },
  {
   "cell_type": "markdown",
   "metadata": {},
   "source": [
    "** Classification model for Loan data **"
   ]
  },
  {
   "cell_type": "code",
   "execution_count": 39,
   "metadata": {},
   "outputs": [],
   "source": [
    "x_data = loans.drop(['loan_status'],axis=1)\n",
    "y_val = loans.loan_status"
   ]
  },
  {
   "cell_type": "code",
   "execution_count": 40,
   "metadata": {},
   "outputs": [],
   "source": [
    "from sklearn.model_selection import train_test_split"
   ]
  },
  {
   "cell_type": "code",
   "execution_count": 41,
   "metadata": {},
   "outputs": [],
   "source": [
    "X_train, X_test, y_train, y_test = train_test_split(x_data,y_val,test_size=0.3,random_state=101)"
   ]
  },
  {
   "cell_type": "markdown",
   "metadata": {},
   "source": [
    "#### Scale the Feature Data\n",
    "\n",
    "** Use sklearn preprocessing to create a MinMaxScaler for the feature data. Fit this scaler only to the training data. Then use it to transform X_test and X_train. Then use the scaled X_test and X_train along with pd.Dataframe to re-create two dataframes of scaled data.**"
   ]
  },
  {
   "cell_type": "code",
   "execution_count": 42,
   "metadata": {},
   "outputs": [
    {
     "data": {
      "text/html": [
       "<div>\n",
       "<style scoped>\n",
       "    .dataframe tbody tr th:only-of-type {\n",
       "        vertical-align: middle;\n",
       "    }\n",
       "\n",
       "    .dataframe tbody tr th {\n",
       "        vertical-align: top;\n",
       "    }\n",
       "\n",
       "    .dataframe thead th {\n",
       "        text-align: right;\n",
       "    }\n",
       "</style>\n",
       "<table border=\"1\" class=\"dataframe\">\n",
       "  <thead>\n",
       "    <tr style=\"text-align: right;\">\n",
       "      <th></th>\n",
       "      <th>loan_amnt</th>\n",
       "      <th>term</th>\n",
       "      <th>int_rate</th>\n",
       "      <th>installment</th>\n",
       "      <th>emp_length</th>\n",
       "      <th>home_ownership</th>\n",
       "      <th>annual_inc</th>\n",
       "      <th>verification_status</th>\n",
       "      <th>loan_status</th>\n",
       "      <th>purpose</th>\n",
       "      <th>dti</th>\n",
       "      <th>delinq_2yrs</th>\n",
       "      <th>inq_last_6mths</th>\n",
       "      <th>open_acc</th>\n",
       "      <th>pub_rec</th>\n",
       "      <th>revol_bal</th>\n",
       "      <th>revol_util</th>\n",
       "      <th>total_acc</th>\n",
       "    </tr>\n",
       "  </thead>\n",
       "  <tbody>\n",
       "    <tr>\n",
       "      <th>0</th>\n",
       "      <td>5000.0</td>\n",
       "      <td>36 months</td>\n",
       "      <td>0.1065</td>\n",
       "      <td>162.87</td>\n",
       "      <td>10</td>\n",
       "      <td>RENT</td>\n",
       "      <td>24000.0</td>\n",
       "      <td>Verified</td>\n",
       "      <td>1</td>\n",
       "      <td>credit_card</td>\n",
       "      <td>27.65</td>\n",
       "      <td>0.0</td>\n",
       "      <td>1.0</td>\n",
       "      <td>3.0</td>\n",
       "      <td>0.0</td>\n",
       "      <td>13648.0</td>\n",
       "      <td>0.837</td>\n",
       "      <td>9.0</td>\n",
       "    </tr>\n",
       "    <tr>\n",
       "      <th>1</th>\n",
       "      <td>2500.0</td>\n",
       "      <td>60 months</td>\n",
       "      <td>0.1527</td>\n",
       "      <td>59.83</td>\n",
       "      <td>0</td>\n",
       "      <td>RENT</td>\n",
       "      <td>30000.0</td>\n",
       "      <td>Source Verified</td>\n",
       "      <td>0</td>\n",
       "      <td>car</td>\n",
       "      <td>1.00</td>\n",
       "      <td>0.0</td>\n",
       "      <td>5.0</td>\n",
       "      <td>3.0</td>\n",
       "      <td>0.0</td>\n",
       "      <td>1687.0</td>\n",
       "      <td>0.094</td>\n",
       "      <td>4.0</td>\n",
       "    </tr>\n",
       "    <tr>\n",
       "      <th>2</th>\n",
       "      <td>2400.0</td>\n",
       "      <td>36 months</td>\n",
       "      <td>0.1596</td>\n",
       "      <td>84.33</td>\n",
       "      <td>10</td>\n",
       "      <td>RENT</td>\n",
       "      <td>12252.0</td>\n",
       "      <td>Not Verified</td>\n",
       "      <td>1</td>\n",
       "      <td>small_business</td>\n",
       "      <td>8.72</td>\n",
       "      <td>0.0</td>\n",
       "      <td>2.0</td>\n",
       "      <td>2.0</td>\n",
       "      <td>0.0</td>\n",
       "      <td>2956.0</td>\n",
       "      <td>0.985</td>\n",
       "      <td>10.0</td>\n",
       "    </tr>\n",
       "    <tr>\n",
       "      <th>3</th>\n",
       "      <td>10000.0</td>\n",
       "      <td>36 months</td>\n",
       "      <td>0.1349</td>\n",
       "      <td>339.31</td>\n",
       "      <td>10</td>\n",
       "      <td>RENT</td>\n",
       "      <td>49200.0</td>\n",
       "      <td>Source Verified</td>\n",
       "      <td>1</td>\n",
       "      <td>other</td>\n",
       "      <td>20.00</td>\n",
       "      <td>0.0</td>\n",
       "      <td>1.0</td>\n",
       "      <td>10.0</td>\n",
       "      <td>0.0</td>\n",
       "      <td>5598.0</td>\n",
       "      <td>0.210</td>\n",
       "      <td>37.0</td>\n",
       "    </tr>\n",
       "    <tr>\n",
       "      <th>4</th>\n",
       "      <td>3000.0</td>\n",
       "      <td>60 months</td>\n",
       "      <td>0.1269</td>\n",
       "      <td>67.79</td>\n",
       "      <td>1</td>\n",
       "      <td>RENT</td>\n",
       "      <td>80000.0</td>\n",
       "      <td>Source Verified</td>\n",
       "      <td>1</td>\n",
       "      <td>other</td>\n",
       "      <td>17.94</td>\n",
       "      <td>0.0</td>\n",
       "      <td>0.0</td>\n",
       "      <td>15.0</td>\n",
       "      <td>0.0</td>\n",
       "      <td>27783.0</td>\n",
       "      <td>0.539</td>\n",
       "      <td>38.0</td>\n",
       "    </tr>\n",
       "  </tbody>\n",
       "</table>\n",
       "</div>"
      ],
      "text/plain": [
       "   loan_amnt        term  int_rate  installment  emp_length home_ownership  \\\n",
       "0     5000.0   36 months    0.1065       162.87          10           RENT   \n",
       "1     2500.0   60 months    0.1527        59.83           0           RENT   \n",
       "2     2400.0   36 months    0.1596        84.33          10           RENT   \n",
       "3    10000.0   36 months    0.1349       339.31          10           RENT   \n",
       "4     3000.0   60 months    0.1269        67.79           1           RENT   \n",
       "\n",
       "   annual_inc verification_status  loan_status         purpose    dti  \\\n",
       "0     24000.0            Verified            1     credit_card  27.65   \n",
       "1     30000.0     Source Verified            0             car   1.00   \n",
       "2     12252.0        Not Verified            1  small_business   8.72   \n",
       "3     49200.0     Source Verified            1           other  20.00   \n",
       "4     80000.0     Source Verified            1           other  17.94   \n",
       "\n",
       "   delinq_2yrs  inq_last_6mths  open_acc  pub_rec  revol_bal  revol_util  \\\n",
       "0          0.0             1.0       3.0      0.0    13648.0       0.837   \n",
       "1          0.0             5.0       3.0      0.0     1687.0       0.094   \n",
       "2          0.0             2.0       2.0      0.0     2956.0       0.985   \n",
       "3          0.0             1.0      10.0      0.0     5598.0       0.210   \n",
       "4          0.0             0.0      15.0      0.0    27783.0       0.539   \n",
       "\n",
       "   total_acc  \n",
       "0        9.0  \n",
       "1        4.0  \n",
       "2       10.0  \n",
       "3       37.0  \n",
       "4       38.0  "
      ]
     },
     "execution_count": 42,
     "metadata": {},
     "output_type": "execute_result"
    }
   ],
   "source": [
    "loans.head()"
   ]
  },
  {
   "cell_type": "code",
   "execution_count": 43,
   "metadata": {},
   "outputs": [],
   "source": [
    "from sklearn.preprocessing import MinMaxScaler"
   ]
  },
  {
   "cell_type": "code",
   "execution_count": 44,
   "metadata": {},
   "outputs": [
    {
     "data": {
      "text/plain": [
       "loan_amnt                         2500\n",
       "term                         60 months\n",
       "int_rate                        0.1527\n",
       "installment                      59.83\n",
       "emp_length                           0\n",
       "home_ownership                    RENT\n",
       "annual_inc                       30000\n",
       "verification_status    Source Verified\n",
       "loan_status                          0\n",
       "purpose                            car\n",
       "dti                                  1\n",
       "delinq_2yrs                          0\n",
       "inq_last_6mths                       5\n",
       "open_acc                             3\n",
       "pub_rec                              0\n",
       "revol_bal                         1687\n",
       "revol_util                       0.094\n",
       "total_acc                            4\n",
       "Name: 1, dtype: object"
      ]
     },
     "execution_count": 44,
     "metadata": {},
     "output_type": "execute_result"
    }
   ],
   "source": [
    "loans.iloc[1]"
   ]
  },
  {
   "cell_type": "code",
   "execution_count": 45,
   "metadata": {},
   "outputs": [
    {
     "data": {
      "text/plain": [
       "loan_amnt              float64\n",
       "term                    object\n",
       "int_rate               float64\n",
       "installment            float64\n",
       "emp_length               int64\n",
       "home_ownership          object\n",
       "annual_inc             float64\n",
       "verification_status     object\n",
       "loan_status              int64\n",
       "purpose                 object\n",
       "dti                    float64\n",
       "delinq_2yrs            float64\n",
       "inq_last_6mths         float64\n",
       "open_acc               float64\n",
       "pub_rec                float64\n",
       "revol_bal              float64\n",
       "revol_util             float64\n",
       "total_acc              float64\n",
       "dtype: object"
      ]
     },
     "execution_count": 45,
     "metadata": {},
     "output_type": "execute_result"
    }
   ],
   "source": [
    "loans.dtypes"
   ]
  },
  {
   "cell_type": "code",
   "execution_count": 46,
   "metadata": {},
   "outputs": [
    {
     "name": "stderr",
     "output_type": "stream",
     "text": [
      "D:\\Users\\KDH\\Anaconda3\\lib\\site-packages\\h5py\\__init__.py:36: FutureWarning: Conversion of the second argument of issubdtype from `float` to `np.floating` is deprecated. In future, it will be treated as `np.float64 == np.dtype(float).type`.\n",
      "  from ._conv import register_converters as _register_converters\n"
     ]
    }
   ],
   "source": [
    "import tensorflow as tf"
   ]
  },
  {
   "cell_type": "code",
   "execution_count": 47,
   "metadata": {},
   "outputs": [
    {
     "data": {
      "text/plain": [
       "Index(['loan_amnt', 'term', 'int_rate', 'installment', 'emp_length',\n",
       "       'home_ownership', 'annual_inc', 'verification_status', 'loan_status',\n",
       "       'purpose', 'dti', 'delinq_2yrs', 'inq_last_6mths', 'open_acc',\n",
       "       'pub_rec', 'revol_bal', 'revol_util', 'total_acc'],\n",
       "      dtype='object')"
      ]
     },
     "execution_count": 47,
     "metadata": {},
     "output_type": "execute_result"
    }
   ],
   "source": [
    "loans.columns"
   ]
  },
  {
   "cell_type": "code",
   "execution_count": 48,
   "metadata": {},
   "outputs": [],
   "source": [
    "loan_amnt = tf.feature_column.numeric_column('loan_amnt')\n",
    "term = tf.feature_column.categorical_column_with_vocabulary_list(key = 'term',vocabulary_list=[' 36 months', ' 60 months'], default_value=0 )\n",
    "int_rate = tf.feature_column.numeric_column('int_rate')\n",
    "installment = tf.feature_column.numeric_column('installment')\n",
    "emp_length = tf.feature_column.numeric_column('emp_length')\n",
    "home_ownership = tf.feature_column.categorical_column_with_hash_bucket(\"home_ownership\",hash_bucket_size=5)\n",
    "annual_inc = tf.feature_column.numeric_column('annual_inc')\n",
    "verification_status = tf.feature_column.categorical_column_with_hash_bucket(\"verification_status\",hash_bucket_size=3)\n",
    "loan_status = tf.feature_column.numeric_column('loan_status')\n",
    "purpose = tf.feature_column.categorical_column_with_hash_bucket('purpose',hash_bucket_size=14)\n",
    "dti = tf.feature_column.numeric_column('dti')\n",
    "delinq_2yrs = tf.feature_column.numeric_column('delinq_2yrs')\n",
    "inq_last_6mths = tf.feature_column.numeric_column('inq_last_6mths')\n",
    "open_acc = tf.feature_column.numeric_column('open_acc')\n",
    "pub_rec = tf.feature_column.numeric_column('pub_rec')\n",
    "revol_bal =tf.feature_column.numeric_column('revol_bal')\n",
    "revol_util = tf.feature_column.numeric_column('revol_util')\n",
    "total_acc =tf.feature_column.numeric_column('total_acc')"
   ]
  },
  {
   "cell_type": "code",
   "execution_count": 49,
   "metadata": {},
   "outputs": [
    {
     "name": "stdout",
     "output_type": "stream",
     "text": [
      "[' 36 months' ' 60 months']\n",
      "['RENT' 'OWN' 'MORTGAGE' 'OTHER' 'NONE']\n",
      "['Verified' 'Source Verified' 'Not Verified']\n",
      "['credit_card' 'car' 'small_business' 'other' 'wedding'\n",
      " 'debt_consolidation' 'home_improvement' 'major_purchase' 'medical'\n",
      " 'moving' 'vacation' 'house' 'renewable_energy' 'educational']\n"
     ]
    }
   ],
   "source": [
    "print(loans.term.unique())\n",
    "print(loans.home_ownership.unique())\n",
    "print(loans.verification_status.unique())\n",
    "print(loans.purpose.unique())"
   ]
  },
  {
   "cell_type": "code",
   "execution_count": 61,
   "metadata": {},
   "outputs": [],
   "source": [
    "feat_cols = [loan_amnt,  int_rate, installment, emp_length,tf.feature_column.indicator_column(term),\n",
    "       tf.feature_column.indicator_column(home_ownership), annual_inc, tf.feature_column.indicator_column(verification_status),tf.feature_column.indicator_column(purpose),dti, delinq_2yrs, inq_last_6mths, open_acc,pub_rec, total_acc]"
   ]
  },
  {
   "cell_type": "markdown",
   "metadata": {},
   "source": [
    "### Create Input Function\n",
    "\n",
    "** Batch_size is 100 with shuffle=True **"
   ]
  },
  {
   "cell_type": "code",
   "execution_count": 62,
   "metadata": {},
   "outputs": [],
   "source": [
    "input_func=tf.estimator.inputs.pandas_input_fn(x=X_train,y=y_train,batch_size=100,num_epochs=None,shuffle=True)"
   ]
  },
  {
   "cell_type": "markdown",
   "metadata": {},
   "source": [
    "### Create the model with tf.estimator\n",
    "\n",
    "**Create a LinearClassifier.(Just in case for a DNNClassifier, I'll need to create embedded columns out of the cateogrical feature that use strings.)**"
   ]
  },
  {
   "cell_type": "code",
   "execution_count": 63,
   "metadata": {},
   "outputs": [
    {
     "name": "stdout",
     "output_type": "stream",
     "text": [
      "INFO:tensorflow:Using default config.\n",
      "WARNING:tensorflow:Using temporary folder as model directory: C:\\Users\\KDH\\AppData\\Local\\Temp\\tmpguw0j6pc\n",
      "INFO:tensorflow:Using config: {'_model_dir': 'C:\\\\Users\\\\KDH\\\\AppData\\\\Local\\\\Temp\\\\tmpguw0j6pc', '_tf_random_seed': None, '_save_summary_steps': 100, '_save_checkpoints_steps': None, '_save_checkpoints_secs': 600, '_session_config': None, '_keep_checkpoint_max': 5, '_keep_checkpoint_every_n_hours': 10000, '_log_step_count_steps': 100, '_train_distribute': None, '_service': None, '_cluster_spec': <tensorflow.python.training.server_lib.ClusterSpec object at 0x0000028A6F3514E0>, '_task_type': 'worker', '_task_id': 0, '_global_id_in_cluster': 0, '_master': '', '_evaluation_master': '', '_is_chief': True, '_num_ps_replicas': 0, '_num_worker_replicas': 1}\n"
     ]
    }
   ],
   "source": [
    "model = tf.estimator.LinearClassifier(feature_columns=feat_cols)"
   ]
  },
  {
   "cell_type": "markdown",
   "metadata": {},
   "source": [
    "** Train the model on the data, for at least 5000 steps. **"
   ]
  },
  {
   "cell_type": "code",
   "execution_count": 64,
   "metadata": {},
   "outputs": [
    {
     "name": "stdout",
     "output_type": "stream",
     "text": [
      "INFO:tensorflow:Calling model_fn.\n",
      "INFO:tensorflow:Done calling model_fn.\n",
      "INFO:tensorflow:Create CheckpointSaverHook.\n",
      "INFO:tensorflow:Graph was finalized.\n",
      "INFO:tensorflow:Running local_init_op.\n",
      "INFO:tensorflow:Done running local_init_op.\n",
      "INFO:tensorflow:Saving checkpoints for 1 into C:\\Users\\KDH\\AppData\\Local\\Temp\\tmpguw0j6pc\\model.ckpt.\n",
      "INFO:tensorflow:loss = 69.31472, step = 1\n",
      "INFO:tensorflow:global_step/sec: 163.725\n",
      "INFO:tensorflow:loss = 23078.533, step = 101 (0.614 sec)\n",
      "INFO:tensorflow:global_step/sec: 203.165\n",
      "INFO:tensorflow:loss = 2393.6362, step = 201 (0.490 sec)\n",
      "INFO:tensorflow:global_step/sec: 206.943\n",
      "INFO:tensorflow:loss = 22472.037, step = 301 (0.484 sec)\n",
      "INFO:tensorflow:global_step/sec: 204.826\n",
      "INFO:tensorflow:loss = 5579.2627, step = 401 (0.487 sec)\n",
      "INFO:tensorflow:global_step/sec: 214.247\n",
      "INFO:tensorflow:loss = 22020.887, step = 501 (0.467 sec)\n",
      "INFO:tensorflow:global_step/sec: 200.923\n",
      "INFO:tensorflow:loss = 3639.9956, step = 601 (0.498 sec)\n",
      "INFO:tensorflow:global_step/sec: 164.196\n",
      "INFO:tensorflow:loss = 3045.2659, step = 701 (0.609 sec)\n",
      "INFO:tensorflow:global_step/sec: 168.056\n",
      "INFO:tensorflow:loss = 12906.814, step = 801 (0.595 sec)\n",
      "INFO:tensorflow:global_step/sec: 205.457\n",
      "INFO:tensorflow:loss = 8231.609, step = 901 (0.487 sec)\n",
      "INFO:tensorflow:global_step/sec: 206.516\n",
      "INFO:tensorflow:loss = 6618.963, step = 1001 (0.483 sec)\n",
      "INFO:tensorflow:global_step/sec: 218.691\n",
      "INFO:tensorflow:loss = 9569.631, step = 1101 (0.458 sec)\n",
      "INFO:tensorflow:global_step/sec: 202.959\n",
      "INFO:tensorflow:loss = 6965.335, step = 1201 (0.492 sec)\n",
      "INFO:tensorflow:global_step/sec: 201.732\n",
      "INFO:tensorflow:loss = 9329.205, step = 1301 (0.496 sec)\n",
      "INFO:tensorflow:global_step/sec: 200.723\n",
      "INFO:tensorflow:loss = 3176.711, step = 1401 (0.499 sec)\n",
      "INFO:tensorflow:global_step/sec: 184.117\n",
      "INFO:tensorflow:loss = 525.6582, step = 1501 (0.543 sec)\n",
      "INFO:tensorflow:global_step/sec: 204.201\n",
      "INFO:tensorflow:loss = 4226.25, step = 1601 (0.489 sec)\n",
      "INFO:tensorflow:global_step/sec: 201.732\n",
      "INFO:tensorflow:loss = 2266.4177, step = 1701 (0.496 sec)\n",
      "INFO:tensorflow:global_step/sec: 201.733\n",
      "INFO:tensorflow:loss = 4050.9143, step = 1801 (0.495 sec)\n",
      "INFO:tensorflow:global_step/sec: 203.165\n",
      "INFO:tensorflow:loss = 532.5857, step = 1901 (0.492 sec)\n",
      "INFO:tensorflow:global_step/sec: 199.721\n",
      "INFO:tensorflow:loss = 2608.5168, step = 2001 (0.501 sec)\n",
      "INFO:tensorflow:global_step/sec: 218.69\n",
      "INFO:tensorflow:loss = 521.79663, step = 2101 (0.458 sec)\n",
      "INFO:tensorflow:global_step/sec: 203.992\n",
      "INFO:tensorflow:loss = 6563.0244, step = 2201 (0.489 sec)\n",
      "INFO:tensorflow:global_step/sec: 200.321\n",
      "INFO:tensorflow:loss = 2852.6504, step = 2301 (0.500 sec)\n",
      "INFO:tensorflow:global_step/sec: 203.577\n",
      "INFO:tensorflow:loss = 5544.7515, step = 2401 (0.490 sec)\n",
      "INFO:tensorflow:global_step/sec: 208.885\n",
      "INFO:tensorflow:loss = 7911.587, step = 2501 (0.479 sec)\n",
      "INFO:tensorflow:global_step/sec: 140.971\n",
      "INFO:tensorflow:loss = 1691.9939, step = 2601 (0.722 sec)\n",
      "INFO:tensorflow:global_step/sec: 163.661\n",
      "INFO:tensorflow:loss = 2362.3755, step = 2701 (0.600 sec)\n",
      "INFO:tensorflow:global_step/sec: 200.722\n",
      "INFO:tensorflow:loss = 1102.669, step = 2801 (0.496 sec)\n",
      "INFO:tensorflow:global_step/sec: 204.408\n",
      "INFO:tensorflow:loss = 3086.0762, step = 2901 (0.490 sec)\n",
      "INFO:tensorflow:global_step/sec: 192.246\n",
      "INFO:tensorflow:loss = 2552.1143, step = 3001 (0.521 sec)\n",
      "INFO:tensorflow:global_step/sec: 238.477\n",
      "INFO:tensorflow:loss = 927.2021, step = 3101 (0.418 sec)\n",
      "INFO:tensorflow:global_step/sec: 226.607\n",
      "INFO:tensorflow:loss = 242.10593, step = 3201 (0.442 sec)\n",
      "INFO:tensorflow:global_step/sec: 171.801\n",
      "INFO:tensorflow:loss = 2196.1592, step = 3301 (0.582 sec)\n",
      "INFO:tensorflow:global_step/sec: 198.141\n",
      "INFO:tensorflow:loss = 2038.051, step = 3401 (0.505 sec)\n",
      "INFO:tensorflow:global_step/sec: 199.324\n",
      "INFO:tensorflow:loss = 1364.5812, step = 3501 (0.507 sec)\n",
      "INFO:tensorflow:global_step/sec: 189.16\n",
      "INFO:tensorflow:loss = 5960.9824, step = 3601 (0.527 sec)\n",
      "INFO:tensorflow:global_step/sec: 187.918\n",
      "INFO:tensorflow:loss = 3381.3887, step = 3701 (0.535 sec)\n",
      "INFO:tensorflow:global_step/sec: 166.103\n",
      "INFO:tensorflow:loss = 750.39465, step = 3801 (0.596 sec)\n",
      "INFO:tensorflow:global_step/sec: 215.863\n",
      "INFO:tensorflow:loss = 9494.714, step = 3901 (0.463 sec)\n",
      "INFO:tensorflow:global_step/sec: 198.337\n",
      "INFO:tensorflow:loss = 8053.382, step = 4001 (0.504 sec)\n",
      "INFO:tensorflow:global_step/sec: 214.247\n",
      "INFO:tensorflow:loss = 2204.8228, step = 4101 (0.466 sec)\n",
      "INFO:tensorflow:global_step/sec: 214.936\n",
      "INFO:tensorflow:loss = 3780.4497, step = 4201 (0.468 sec)\n",
      "INFO:tensorflow:global_step/sec: 201.327\n",
      "INFO:tensorflow:loss = 1125.4053, step = 4301 (0.495 sec)\n",
      "INFO:tensorflow:global_step/sec: 203.165\n",
      "INFO:tensorflow:loss = 3769.0632, step = 4401 (0.491 sec)\n",
      "INFO:tensorflow:global_step/sec: 200.923\n",
      "INFO:tensorflow:loss = 5553.0117, step = 4501 (0.499 sec)\n",
      "INFO:tensorflow:global_step/sec: 200.12\n",
      "INFO:tensorflow:loss = 1433.5881, step = 4601 (0.498 sec)\n",
      "INFO:tensorflow:global_step/sec: 198.73\n",
      "INFO:tensorflow:loss = 2196.0112, step = 4701 (0.503 sec)\n",
      "INFO:tensorflow:global_step/sec: 200.924\n",
      "INFO:tensorflow:loss = 745.3384, step = 4801 (0.499 sec)\n",
      "INFO:tensorflow:global_step/sec: 197.555\n",
      "INFO:tensorflow:loss = 790.7327, step = 4901 (0.506 sec)\n",
      "INFO:tensorflow:Saving checkpoints for 5000 into C:\\Users\\KDH\\AppData\\Local\\Temp\\tmpguw0j6pc\\model.ckpt.\n",
      "INFO:tensorflow:Loss for final step: 3572.3232.\n"
     ]
    },
    {
     "data": {
      "text/plain": [
       "<tensorflow.python.estimator.canned.linear.LinearClassifier at 0x28a6f351198>"
      ]
     },
     "execution_count": 64,
     "metadata": {},
     "output_type": "execute_result"
    }
   ],
   "source": [
    "model.train(input_fn=input_func,steps=5000)"
   ]
  },
  {
   "cell_type": "markdown",
   "metadata": {},
   "source": [
    "** Evaluation **"
   ]
  },
  {
   "cell_type": "code",
   "execution_count": 65,
   "metadata": {},
   "outputs": [],
   "source": [
    "pred_fn = tf.estimator.inputs.pandas_input_fn(x=X_test,batch_size=len(X_test),shuffle=False)"
   ]
  },
  {
   "cell_type": "code",
   "execution_count": 66,
   "metadata": {},
   "outputs": [
    {
     "name": "stdout",
     "output_type": "stream",
     "text": [
      "INFO:tensorflow:Calling model_fn.\n",
      "INFO:tensorflow:Done calling model_fn.\n",
      "INFO:tensorflow:Graph was finalized.\n",
      "INFO:tensorflow:Restoring parameters from C:\\Users\\KDH\\AppData\\Local\\Temp\\tmpguw0j6pc\\model.ckpt-5000\n",
      "INFO:tensorflow:Running local_init_op.\n",
      "INFO:tensorflow:Done running local_init_op.\n"
     ]
    }
   ],
   "source": [
    "predictions = list(model.predict(input_fn=pred_fn))"
   ]
  },
  {
   "cell_type": "code",
   "execution_count": 67,
   "metadata": {},
   "outputs": [
    {
     "data": {
      "text/plain": [
       "{'class_ids': array([1], dtype=int64),\n",
       " 'classes': array([b'1'], dtype=object),\n",
       " 'logistic': array([1.], dtype=float32),\n",
       " 'logits': array([217.27188], dtype=float32),\n",
       " 'probabilities': array([0., 1.], dtype=float32)}"
      ]
     },
     "execution_count": 67,
     "metadata": {},
     "output_type": "execute_result"
    }
   ],
   "source": [
    "predictions[0]"
   ]
  },
  {
   "cell_type": "markdown",
   "metadata": {},
   "source": [
    "** Create a list of only the class_ids key values from the prediction list of dictionaries, these are the predictions you will use to compare against the real y_test values. **"
   ]
  },
  {
   "cell_type": "code",
   "execution_count": 68,
   "metadata": {},
   "outputs": [],
   "source": [
    "final_preds = []\n",
    "for pred in predictions:\n",
    "    final_preds.append(pred['class_ids'][0])"
   ]
  },
  {
   "cell_type": "code",
   "execution_count": 69,
   "metadata": {},
   "outputs": [
    {
     "data": {
      "text/plain": [
       "[1, 1, 1, 1, 1, 1, 1, 1, 1, 1, 1, 1, 1, 1, 1]"
      ]
     },
     "execution_count": 69,
     "metadata": {},
     "output_type": "execute_result"
    }
   ],
   "source": [
    "final_preds[:15]"
   ]
  },
  {
   "cell_type": "markdown",
   "metadata": {},
   "source": [
    "** Import classification_report from sklearn.metrics and then see if you can figure out how to use it to easily get a full report of your model's performance on the test data. **"
   ]
  },
  {
   "cell_type": "code",
   "execution_count": 70,
   "metadata": {},
   "outputs": [],
   "source": [
    "from sklearn.metrics import classification_report"
   ]
  },
  {
   "cell_type": "code",
   "execution_count": 71,
   "metadata": {},
   "outputs": [
    {
     "name": "stdout",
     "output_type": "stream",
     "text": [
      "             precision    recall  f1-score   support\n",
      "\n",
      "          0       0.00      0.00      0.00      1623\n",
      "          1       0.86      1.00      0.92      9972\n",
      "\n",
      "avg / total       0.74      0.86      0.80     11595\n",
      "\n"
     ]
    }
   ],
   "source": [
    "print(classification_report(y_test,final_preds))"
   ]
  },
  {
   "cell_type": "markdown",
   "metadata": {},
   "source": [
    "- The precision is the ratio tp / (tp + fp) where tp is the number of true positives and fp the number of false positives. The precision is intuitively the ability of the classifier not to label as positive a sample that is negative.\n",
    "\n",
    "-  The recall is the ratio tp / (tp + fn) where tp is the number of true positives and fn the number of false negatives. The recall is intuitively the ability of the classifier to find all the positive samples.\n",
    "\n",
    "- The F-beta score can be interpreted as a weighted harmonic mean of the precision and recall, where an F-beta score reaches its best value at 1 and worst score at 0.\n",
    "\n",
    "- The support is the number of occurrences of each class"
   ]
  },
  {
   "cell_type": "markdown",
   "metadata": {},
   "source": [
    "-  Overall 80% seems ok but need to compare to other models. \n",
    "- and Given this, there's probably some room to improve. \n",
    "- I may change the batch_size, step size to draw the better result"
   ]
  }
 ],
 "metadata": {
  "kernelspec": {
   "display_name": "Python 3",
   "language": "python",
   "name": "python3"
  },
  "language_info": {
   "codemirror_mode": {
    "name": "ipython",
    "version": 3
   },
   "file_extension": ".py",
   "mimetype": "text/x-python",
   "name": "python",
   "nbconvert_exporter": "python",
   "pygments_lexer": "ipython3",
   "version": "3.6.4"
  }
 },
 "nbformat": 4,
 "nbformat_minor": 2
}
